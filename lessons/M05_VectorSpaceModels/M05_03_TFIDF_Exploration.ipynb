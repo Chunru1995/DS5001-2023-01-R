{
 "cells": [
  {
   "cell_type": "markdown",
   "id": "working-salmon",
   "metadata": {},
   "source": [
    "# Metadata\n",
    "\n",
    "```yaml\n",
    "Course:    DS 5001\n",
    "Module:    M05 Lab\n",
    "Topic:     Variant TFIDFs and Document Significance\n",
    "Author:    R.C. Alvarado\n",
    "Date:      12 February 2023\n",
    "```"
   ]
  },
  {
   "cell_type": "markdown",
   "id": "dental-violence",
   "metadata": {},
   "source": [
    "# Exposition\n",
    "\n",
    "* Three kinds of signficance:\n",
    "  * __Local__: `TF-IDF` (significance of a term in a document; related to $p(w|d, C)$ ).\n",
    "  * __Global__: Aggregate `TF-IDF` by term (significane of a term in the corpus; related to $p( w|C ) $ ).\n",
    "  * __Document__: Aggreate `TF-IDF` by document (significance of document in the corpus; related to $p(d|W_d,C) $ ).\n",
    "* `TF-IDF` is essentially local frequency balanced by global frequency.\n",
    "* `DF-IDF` = `TF-IDF` Σ for boolean counts.\n",
    "* `DF-IDF` is global boolean term entropy.\n",
    "* Boolean counts are bad for computing local significance, but good for global.\n",
    "* Max normalization is good for local significance.\n",
    "* Doc significance should be computed from good local significance."
   ]
  },
  {
   "cell_type": "markdown",
   "id": "gothic-steps",
   "metadata": {},
   "source": [
    "# Set Up"
   ]
  },
  {
   "cell_type": "code",
   "execution_count": 1,
   "id": "tribal-remedy",
   "metadata": {},
   "outputs": [],
   "source": [
    "data_in = '../data/output'\n",
    "data_out = '../data/output'\n",
    "data_prefix = 'austen-melville'"
   ]
  },
  {
   "cell_type": "code",
   "execution_count": null,
   "id": "willing-split",
   "metadata": {},
   "outputs": [],
   "source": [
    "import pandas as pd\n",
    "import numpy as np\n",
    "import seaborn as sns\n",
    "import plotly_express as px\n",
    "import plotly.graph_objects as go # For more control on graphs\n",
    "import re"
   ]
  },
  {
   "cell_type": "code",
   "execution_count": null,
   "id": "little-photograph",
   "metadata": {},
   "outputs": [],
   "source": [
    "sns.set()"
   ]
  },
  {
   "cell_type": "markdown",
   "id": "apparent-uncle",
   "metadata": {},
   "source": [
    "# Get Data"
   ]
  },
  {
   "cell_type": "code",
   "execution_count": null,
   "id": "278b5182-d1d7-40e2-b241-06ccacb34bbb",
   "metadata": {},
   "outputs": [],
   "source": [
    "LIB = pd.read_csv(f\"{data_in}/{data_prefix}-LIB.csv\").set_index('book_id')\n",
    "LIB['title'] = LIB.title.str.split(r',? by').apply(lambda x: x[0])\n",
    "LIB['author'] = LIB.apply(lambda x: re.split(r',? by', x.title)[-1], 1)\n",
    "for idx in [15859, 13720, 53861, 13721]:\n",
    "    LIB.loc[idx, 'author'] = 'Herman Melville'\n",
    "LIB = LIB[['title','author']]"
   ]
  },
  {
   "cell_type": "code",
   "execution_count": null,
   "id": "7f153c95-79f1-4bb7-a964-94dedea7d21f",
   "metadata": {},
   "outputs": [],
   "source": [
    "TOKEN = pd.read_csv(f'{data_in}/{data_prefix}-TOKEN.csv')\n",
    "OHCO = TOKEN.columns.to_list()[:5] \n",
    "TOKEN = TOKEN.set_index(OHCO)"
   ]
  },
  {
   "cell_type": "code",
   "execution_count": null,
   "id": "dfbe430e-0ab6-42fe-9e9b-26e7a6b3646b",
   "metadata": {},
   "outputs": [],
   "source": [
    "VOCAB = pd.read_csv(f'{data_in}/{data_prefix}-VOCAB.csv').set_index('term_str')\n",
    "# VOCAB = VOCAB.drop('term_id', 1) # We will forego using numeric term_ids and just use the term_str\n",
    "VOCAB['pos_max'] = TOKEN.groupby(['term_str','pos']).pos.count().unstack().idxmax(1)\n",
    "VOCAB['pos_group'] = VOCAB.max_pos.str[:2]\n",
    "VOCAB['term_code'] = VOCAB.apply(lambda x: str(x.name) + '/' + x.max_pos, 1)\n",
    "VOCAB['term_len'] = VOCAB.index.str.len()"
   ]
  },
  {
   "cell_type": "markdown",
   "id": "usual-cheese",
   "metadata": {},
   "source": [
    "# Recreate BOW"
   ]
  },
  {
   "cell_type": "code",
   "execution_count": null,
   "id": "random-divide",
   "metadata": {},
   "outputs": [],
   "source": [
    "# BAG = OHCO[:1] # Book\n",
    "BAG = OHCO[:2] # Chapter\n",
    "# BAG = OHCO[:3] # Paragraph"
   ]
  },
  {
   "cell_type": "code",
   "execution_count": null,
   "id": "measured-opportunity",
   "metadata": {},
   "outputs": [],
   "source": [
    "BOW = TOKEN.groupby(BAG + ['term_str']).term_str.count().to_frame('n')"
   ]
  },
  {
   "cell_type": "code",
   "execution_count": null,
   "id": "cosmetic-cigarette",
   "metadata": {},
   "outputs": [],
   "source": [
    "BOW"
   ]
  },
  {
   "cell_type": "markdown",
   "id": "4f612d48-191e-448d-88b7-3c37d2208f7f",
   "metadata": {},
   "source": [
    "## Extract the DOCS table\n",
    "\n",
    "This is a table of bag-level observations. We'll use this later when exploring document level significance."
   ]
  },
  {
   "cell_type": "code",
   "execution_count": null,
   "id": "9a3fcf89-f150-4da9-aa7f-0d7f8ef578e5",
   "metadata": {},
   "outputs": [],
   "source": [
    "DOCS = BOW.groupby(BAG).n.sum().to_frame('n')"
   ]
  },
  {
   "cell_type": "code",
   "execution_count": null,
   "id": "264590c7-9949-45a4-8237-3b18f2701c19",
   "metadata": {},
   "outputs": [],
   "source": [
    "DOCS"
   ]
  },
  {
   "cell_type": "markdown",
   "id": "classical-cheese",
   "metadata": {},
   "source": [
    "# Local Significance (TFIDF)"
   ]
  },
  {
   "cell_type": "markdown",
   "id": "orange-paper",
   "metadata": {},
   "source": [
    "## Traditional"
   ]
  },
  {
   "cell_type": "code",
   "execution_count": null,
   "id": "992193b2-95f1-4a69-9b6f-f6ed6c906d38",
   "metadata": {},
   "outputs": [],
   "source": [
    "TF = BOW.n.unstack(fill_value=0) # Document-Term Count Matrix\n",
    "DF = TF.astype('bool').sum() \n",
    "N = len(DOCS)\n",
    "IDF = np.log2(N/DF)      \n",
    "TFIDF = TF * IDF\n",
    "TFIDF_agg = TFIDF.sum()"
   ]
  },
  {
   "cell_type": "code",
   "execution_count": null,
   "id": "quick-reaction",
   "metadata": {},
   "outputs": [],
   "source": [
    "TFIDF_agg.sort_values(ascending=False).head(20)"
   ]
  },
  {
   "cell_type": "markdown",
   "id": "strategic-interstate",
   "metadata": {},
   "source": [
    "## Variants"
   ]
  },
  {
   "cell_type": "code",
   "execution_count": null,
   "id": "ffcb638e-90f6-47f8-819b-8b70076a697f",
   "metadata": {},
   "outputs": [],
   "source": [
    "tf_variants = {\n",
    "    'raw': lambda tf: tf,\n",
    "    'rel': lambda tf: (tf.T / tf.T.sum()).T,\n",
    "    'max': lambda tf, alpha=.4: alpha + (1 - alpha) * (tf.T / tf.T.max()).T,\n",
    "    'log': lambda tf: np.log2(1 + tf),\n",
    "    'bool': lambda tf: tf.astype('bool').astype('int'),\n",
    "    # 'sub': lambda tf: 1 + np.log2(tf)\n",
    "}"
   ]
  },
  {
   "cell_type": "code",
   "execution_count": null,
   "id": "52341f9f-c80f-40b3-aa3e-dec83bc074e6",
   "metadata": {},
   "outputs": [],
   "source": [
    "tfidf_variants = {k: tf_variants[k](TF) * IDF for k, v in tf_variants.items()}"
   ]
  },
  {
   "cell_type": "markdown",
   "id": "a2a3e054-a02d-496e-b0dd-3111e14f2d57",
   "metadata": {
    "tags": []
   },
   "source": [
    "# Global Significance\n",
    "\n",
    "Global significance in this context means aggregate significance for the whole corpus.\n",
    "\n",
    "We get the sums of each variant TF."
   ]
  },
  {
   "cell_type": "code",
   "execution_count": null,
   "id": "b7a3880c-ca34-42c4-83a0-375c7ef47609",
   "metadata": {},
   "outputs": [],
   "source": [
    "tfidf_sums = {k: v.sum().to_frame('sum_val') for k, v in tfidf_variants.items()}"
   ]
  },
  {
   "cell_type": "code",
   "execution_count": null,
   "id": "4233efae-3bca-4628-8722-51802a3e6ff6",
   "metadata": {},
   "outputs": [],
   "source": [
    "SUMS = pd.concat([v.sort_values('sum_val', ascending=False).head(20).reset_index() \n",
    "    for v in tfidf_sums.values()], keys=tfidf_sums.keys(), axis=1)"
   ]
  },
  {
   "cell_type": "code",
   "execution_count": null,
   "id": "ec548979-4702-4972-8368-c0a2fee6adb0",
   "metadata": {},
   "outputs": [],
   "source": [
    "SUMS.style.background_gradient('YlGnBu')"
   ]
  },
  {
   "cell_type": "markdown",
   "id": "7ad7aac4-de7c-41ab-9c89-46533ce044a3",
   "metadata": {},
   "source": [
    "We compare sums to means."
   ]
  },
  {
   "cell_type": "code",
   "execution_count": null,
   "id": "92d4e95f-9483-4276-98a1-45369bdaa825",
   "metadata": {},
   "outputs": [],
   "source": [
    "tfidf_means = {k: v.mean().to_frame('mean_val') for k, v in tfidf_variants.items()}"
   ]
  },
  {
   "cell_type": "code",
   "execution_count": null,
   "id": "5486b8f0-2741-45ff-b8df-15a297b437ae",
   "metadata": {},
   "outputs": [],
   "source": [
    "MEANS = pd.concat([v.sort_values('mean_val', ascending=False).head(20).reset_index() \n",
    "        for v in tfidf_means.values()], keys=tfidf_means.keys(), axis=1)"
   ]
  },
  {
   "cell_type": "code",
   "execution_count": null,
   "id": "e5726188-30f3-456f-b066-cf4e4a6e52f4",
   "metadata": {},
   "outputs": [],
   "source": [
    "MEANS.style.background_gradient('YlGnBu')"
   ]
  },
  {
   "cell_type": "markdown",
   "id": "4d88fbaf-eb4b-4a52-b974-10440941292c",
   "metadata": {},
   "source": [
    "Combine and compare"
   ]
  },
  {
   "cell_type": "code",
   "execution_count": null,
   "id": "c24830fb-25e9-46f9-985c-319987cbf589",
   "metadata": {},
   "outputs": [],
   "source": [
    "AGGS = pd.concat([SUMS,MEANS], axis=1, ignore_index=True) # We combine the two\n",
    "AGGS.columns = ['_'.join(idx) + '_x' for idx in SUMS.columns] + ['_'.join(idx) + '_y' for idx in MEANS.columns] # This flattens the multiindex\n",
    "AGGS = (AGGS - AGGS.mean(numeric_only=True)) / AGGS.std(numeric_only=True) # This normalizes the quantities as Z-scores\n",
    "AGGS = AGGS[[col for col in AGGS.columns if 'term_str' not in col]] # This removes the string columns\n",
    "AGGS = (AGGS * 100).astype('int') # This converts the numbers so they can be compact in the heatmap"
   ]
  },
  {
   "cell_type": "code",
   "execution_count": null,
   "id": "8506f23b-415b-43a5-b723-90e5adb8e010",
   "metadata": {},
   "outputs": [],
   "source": [
    "AGGS.T.style.background_gradient(cmap='RdYlBu', axis=None)"
   ]
  },
  {
   "cell_type": "markdown",
   "id": "ceafa04d-3e47-4a13-9ab4-662af719dca1",
   "metadata": {},
   "source": [
    "We can see that there is no difference between mean and sum for sorting terms by global significance. \n",
    "\n",
    "We can also see that boolean counting produces a different distribution than the others, which are similar to each other."
   ]
  },
  {
   "cell_type": "markdown",
   "id": "e9a55df4-cf3a-490e-92e5-8f7cf0d4de08",
   "metadata": {},
   "source": [
    "## DFIDF as DH\n",
    "\n",
    "Let's compute the global entropy of terms in the corpus and use that as another measure of global significance.\n",
    "\n",
    "It turns out that this measure is the same as TFIDF summing from a boolean count matrix."
   ]
  },
  {
   "cell_type": "code",
   "execution_count": null,
   "id": "2bb0733a-55c2-496c-a662-257742088929",
   "metadata": {},
   "outputs": [],
   "source": [
    "DFIDF = (DF * IDF).to_frame('val')\n",
    "DP = DF / N\n",
    "DI = np.log2(1/DP)\n",
    "DH = (DP * DI).to_frame('val')"
   ]
  },
  {
   "cell_type": "code",
   "execution_count": null,
   "id": "8ae10428-dcf7-4feb-af9f-0e5661d5ca81",
   "metadata": {},
   "outputs": [],
   "source": [
    "pd.concat([\n",
    "        DFIDF.sort_values('val', ascending=False).head(20).reset_index(),\n",
    "        DH.sort_values('val', ascending=False).head(20).reset_index(), \n",
    "        tfidf_sums['bool'].sort_values('sum_val', ascending=False).head(20).reset_index()\n",
    "    ], keys=['dfidf', 'dh', 'bool'], axis=1)\\\n",
    "    .style.background_gradient('YlGnBu')"
   ]
  },
  {
   "cell_type": "markdown",
   "id": "52834ced-4fac-4e45-b682-17779c26d995",
   "metadata": {},
   "source": [
    "# Document Significance"
   ]
  },
  {
   "cell_type": "code",
   "execution_count": null,
   "id": "748c67cf-0915-4764-bcf8-71a1abb57d5f",
   "metadata": {},
   "outputs": [],
   "source": [
    "for k, v in tfidf_variants.items():\n",
    "    DOCS[f'doc_sig_{k}'] = v.T.mean()"
   ]
  },
  {
   "cell_type": "code",
   "execution_count": null,
   "id": "8e615c77-d2b9-4641-b953-34da58fafb1e",
   "metadata": {},
   "outputs": [],
   "source": [
    "DOCS"
   ]
  },
  {
   "cell_type": "markdown",
   "id": "perfect-arcade",
   "metadata": {},
   "source": [
    "We computes TFIDF with the book as the context."
   ]
  },
  {
   "cell_type": "code",
   "execution_count": null,
   "id": "cooked-struggle",
   "metadata": {},
   "outputs": [],
   "source": [
    "def get_chap_sigs(bow):\n",
    "    X = bow.unstack(fill_value=0).astype('bool')\n",
    "    df = X.sum()\n",
    "    tf = (X.T / X.T.sum()).T\n",
    "    idf = np.log2(len(tf)/df)\n",
    "    tfidf = tf * idf\n",
    "    ds = tfidf.T.sum()\n",
    "    return ds"
   ]
  },
  {
   "cell_type": "code",
   "execution_count": null,
   "id": "288b0e31-5fe5-44e4-a276-23376f9a3b8d",
   "metadata": {},
   "outputs": [],
   "source": [
    "DOCS['book_chap_sig'] = DOCS.groupby('book_id').apply(lambda x: get_chap_sigs(BOW.loc[x.name]))"
   ]
  },
  {
   "cell_type": "markdown",
   "id": "11bc4736-39ce-4d2a-9d37-c8666113a2db",
   "metadata": {},
   "source": [
    "See how length and significance are related."
   ]
  },
  {
   "cell_type": "code",
   "execution_count": null,
   "id": "36dafe03-90b3-4f3e-8fb7-c8c5cfd87b0a",
   "metadata": {
    "tags": []
   },
   "outputs": [],
   "source": [
    "DOCS.loc[105].plot.scatter('n', 'book_chap_sig');"
   ]
  },
  {
   "cell_type": "code",
   "execution_count": null,
   "id": "molecular-correction",
   "metadata": {},
   "outputs": [],
   "source": [
    "def plot_sig_docs2(book_id, type='scatter'):\n",
    "\n",
    "    global DOCS\n",
    "    D = DOCS.loc[book_id]\n",
    "    title = LIB.loc[book_id].title\n",
    "    point_size = (D.n / D.n.sum()) * 700\n",
    "    \n",
    "    fig = go.Figure()\n",
    "    fig.add_trace(go.Scatter(x=D.index, y=D.book_chap_sig, \n",
    "                             text=D.index, \n",
    "                             mode = 'lines+markers+text',\n",
    "                             marker = dict(size=point_size, color='#BBB'),\n",
    "                             line = dict(color='#DADADA'),\n",
    "                             textfont = dict(color=\"black\")\n",
    "                            ))\n",
    "                  \n",
    "    fig.update_layout(\n",
    "        font = dict(color=\"#000\", size=14),\n",
    "        title=title,\n",
    "        xaxis_title=\"Chapter\",\n",
    "        yaxis_title=\"Significance\",\n",
    "        height=800\n",
    "    )\n",
    "    fig.show()"
   ]
  },
  {
   "cell_type": "code",
   "execution_count": null,
   "id": "working-shanghai",
   "metadata": {},
   "outputs": [],
   "source": [
    "plot_sig_docs2(105)"
   ]
  },
  {
   "cell_type": "markdown",
   "id": "94e0e4a3-e539-488c-bcc6-89e1de7c44dd",
   "metadata": {
    "tags": []
   },
   "source": [
    "> **Chapter 12 signals a climax in the novel's narrative.** Persuasion is a linear narrative that is organized chronologically. The original edition of this novel was published in two volumes, **the first volume ending at the close of Chapter 12**. Louisa's fall is the greatest dramatic occurrence which has happened so far. By inserting the fall here, Austen creates a cliffhanger and encourages her readers to buy the second volume of her novel. In these chapters, the reader is shown the negative effects of what can happen when one is too stubborn. Louisa would not be persuaded to keep from jumping off the wall. Her firmness of mind means serious injury for her and significant guilt for Captain Wentworth. He is encouraged to rethink his initial judgment of the benefit of a \"strong character.\" [Sparknotes](https://www.sparknotes.com/lit/persuasion/section6/page/2/)"
   ]
  },
  {
   "cell_type": "code",
   "execution_count": null,
   "id": "tamil-psychiatry",
   "metadata": {},
   "outputs": [],
   "source": [
    "plot_sig_docs2(1342)"
   ]
  },
  {
   "cell_type": "code",
   "execution_count": null,
   "id": "precious-physiology",
   "metadata": {},
   "outputs": [],
   "source": [
    "plot_sig_docs2(2701)"
   ]
  },
  {
   "cell_type": "code",
   "execution_count": null,
   "id": "8b170599-5b9d-4e63-ad37-5d36b496dcf2",
   "metadata": {},
   "outputs": [],
   "source": []
  }
 ],
 "metadata": {
  "kernelspec": {
   "display_name": "Python 3 (ipykernel)",
   "language": "python",
   "name": "python3"
  },
  "language_info": {
   "codemirror_mode": {
    "name": "ipython",
    "version": 3
   },
   "file_extension": ".py",
   "mimetype": "text/x-python",
   "name": "python",
   "nbconvert_exporter": "python",
   "pygments_lexer": "ipython3",
   "version": "3.8.16"
  },
  "latex_envs": {
   "LaTeX_envs_menu_present": true,
   "autoclose": false,
   "autocomplete": true,
   "bibliofile": "biblio.bib",
   "cite_by": "apalike",
   "current_citInitial": 1,
   "eqLabelWithNumbers": true,
   "eqNumInitial": 1,
   "hotkeys": {
    "equation": "Ctrl-E",
    "itemize": "Ctrl-I"
   },
   "labels_anchors": false,
   "latex_user_defs": false,
   "report_style_numbering": false,
   "user_envs_cfg": false
  },
  "toc": {
   "base_numbering": 1,
   "nav_menu": {},
   "number_sections": true,
   "sideBar": true,
   "skip_h1_title": true,
   "title_cell": "Table of Contents",
   "title_sidebar": "Contents",
   "toc_cell": false,
   "toc_position": {
    "height": "calc(100% - 180px)",
    "left": "10px",
    "top": "150px",
    "width": "172px"
   },
   "toc_section_display": true,
   "toc_window_display": true
  },
  "toc-autonumbering": false,
  "toc-showcode": false,
  "toc-showmarkdowntxt": false,
  "toc-showtags": false,
  "varInspector": {
   "cols": {
    "lenName": 16,
    "lenType": 16,
    "lenVar": 40
   },
   "kernels_config": {
    "python": {
     "delete_cmd_postfix": "",
     "delete_cmd_prefix": "del ",
     "library": "var_list.py",
     "varRefreshCmd": "print(var_dic_list())"
    },
    "r": {
     "delete_cmd_postfix": ") ",
     "delete_cmd_prefix": "rm(",
     "library": "var_list.r",
     "varRefreshCmd": "cat(var_dic_list()) "
    }
   },
   "types_to_exclude": [
    "module",
    "function",
    "builtin_function_or_method",
    "instance",
    "_Feature"
   ],
   "window_display": false
  },
  "widgets": {
   "application/vnd.jupyter.widget-state+json": {
    "state": {},
    "version_major": 2,
    "version_minor": 0
   }
  }
 },
 "nbformat": 4,
 "nbformat_minor": 5
}
