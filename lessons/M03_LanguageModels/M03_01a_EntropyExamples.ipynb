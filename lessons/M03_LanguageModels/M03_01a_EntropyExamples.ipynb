{
 "cells": [
  {
   "cell_type": "markdown",
   "id": "159babaf-3e3a-4cc7-92ce-1cc6f58dabad",
   "metadata": {},
   "source": [
    "# Metadata\n",
    "\n",
    "```yaml\n",
    "Course:  DS 5001\n",
    "Module:  03 Lab\n",
    "Topic:   Entropy Examples\n",
    "Version: 1\n",
    "Author:  R.C. Alvarado\n",
    "Date:    02 February 2023\n",
    "```\n",
    "\n",
    "**Purpose**: To demonstrate entropy by way of simple examples, drawn from Manning and Schutz."
   ]
  },
  {
   "cell_type": "code",
   "execution_count": 1,
   "id": "37fca8f8-38ca-4115-9ed8-4ca5ccd98a58",
   "metadata": {},
   "outputs": [],
   "source": [
    "import pandas as pd\n",
    "import numpy as np"
   ]
  },
  {
   "cell_type": "markdown",
   "id": "3edf2db7-218b-4e31-9206-e13dfa083357",
   "metadata": {
    "tags": []
   },
   "source": [
    "# Entropy of a Die"
   ]
  },
  {
   "cell_type": "markdown",
   "id": "b1736b48-35e5-4606-a35a-43d429a31575",
   "metadata": {},
   "source": [
    "<img src=\"media/ex7.png\">"
   ]
  },
  {
   "cell_type": "code",
   "execution_count": 110,
   "id": "348db3a7-d122-486d-b674-57215debf195",
   "metadata": {},
   "outputs": [],
   "source": [
    "def die_entropy(sides=8):\n",
    "    die = pd.DataFrame([n+1 for n in range(sides)], columns=['face']).set_index('face')\n",
    "    die['p'] = 1/die.shape[0]\n",
    "    die['i'] = np.log2(1/die.p)\n",
    "    die['h'] = die.p * die.i\n",
    "    H_die = die.h.sum()\n",
    "    return die, H_die"
   ]
  },
  {
   "cell_type": "code",
   "execution_count": 111,
   "id": "0ec3db91-0625-4605-96cd-4ec50a543331",
   "metadata": {},
   "outputs": [],
   "source": [
    "die8, H8 = die_entropy()"
   ]
  },
  {
   "cell_type": "code",
   "execution_count": 112,
   "id": "f965857c-8190-49b0-a6b4-1ba5264e2dda",
   "metadata": {},
   "outputs": [
    {
     "data": {
      "text/html": [
       "<div>\n",
       "<style scoped>\n",
       "    .dataframe tbody tr th:only-of-type {\n",
       "        vertical-align: middle;\n",
       "    }\n",
       "\n",
       "    .dataframe tbody tr th {\n",
       "        vertical-align: top;\n",
       "    }\n",
       "\n",
       "    .dataframe thead th {\n",
       "        text-align: right;\n",
       "    }\n",
       "</style>\n",
       "<table border=\"1\" class=\"dataframe\">\n",
       "  <thead>\n",
       "    <tr style=\"text-align: right;\">\n",
       "      <th></th>\n",
       "      <th>p</th>\n",
       "      <th>i</th>\n",
       "      <th>h</th>\n",
       "    </tr>\n",
       "    <tr>\n",
       "      <th>face</th>\n",
       "      <th></th>\n",
       "      <th></th>\n",
       "      <th></th>\n",
       "    </tr>\n",
       "  </thead>\n",
       "  <tbody>\n",
       "    <tr>\n",
       "      <th>1</th>\n",
       "      <td>0.125</td>\n",
       "      <td>3.0</td>\n",
       "      <td>0.375</td>\n",
       "    </tr>\n",
       "    <tr>\n",
       "      <th>2</th>\n",
       "      <td>0.125</td>\n",
       "      <td>3.0</td>\n",
       "      <td>0.375</td>\n",
       "    </tr>\n",
       "    <tr>\n",
       "      <th>3</th>\n",
       "      <td>0.125</td>\n",
       "      <td>3.0</td>\n",
       "      <td>0.375</td>\n",
       "    </tr>\n",
       "    <tr>\n",
       "      <th>4</th>\n",
       "      <td>0.125</td>\n",
       "      <td>3.0</td>\n",
       "      <td>0.375</td>\n",
       "    </tr>\n",
       "    <tr>\n",
       "      <th>5</th>\n",
       "      <td>0.125</td>\n",
       "      <td>3.0</td>\n",
       "      <td>0.375</td>\n",
       "    </tr>\n",
       "    <tr>\n",
       "      <th>6</th>\n",
       "      <td>0.125</td>\n",
       "      <td>3.0</td>\n",
       "      <td>0.375</td>\n",
       "    </tr>\n",
       "    <tr>\n",
       "      <th>7</th>\n",
       "      <td>0.125</td>\n",
       "      <td>3.0</td>\n",
       "      <td>0.375</td>\n",
       "    </tr>\n",
       "    <tr>\n",
       "      <th>8</th>\n",
       "      <td>0.125</td>\n",
       "      <td>3.0</td>\n",
       "      <td>0.375</td>\n",
       "    </tr>\n",
       "  </tbody>\n",
       "</table>\n",
       "</div>"
      ],
      "text/plain": [
       "          p    i      h\n",
       "face                   \n",
       "1     0.125  3.0  0.375\n",
       "2     0.125  3.0  0.375\n",
       "3     0.125  3.0  0.375\n",
       "4     0.125  3.0  0.375\n",
       "5     0.125  3.0  0.375\n",
       "6     0.125  3.0  0.375\n",
       "7     0.125  3.0  0.375\n",
       "8     0.125  3.0  0.375"
      ]
     },
     "execution_count": 112,
     "metadata": {},
     "output_type": "execute_result"
    }
   ],
   "source": [
    "die8"
   ]
  },
  {
   "cell_type": "code",
   "execution_count": 5,
   "id": "9f497628-bf7b-44ad-b546-70e10a7339c4",
   "metadata": {},
   "outputs": [
    {
     "data": {
      "text/plain": [
       "3.0"
      ]
     },
     "execution_count": 5,
     "metadata": {},
     "output_type": "execute_result"
    }
   ],
   "source": [
    "H8"
   ]
  },
  {
   "cell_type": "code",
   "execution_count": 6,
   "id": "b31a0bdf-0f6e-4002-8125-f8bcb83dfba0",
   "metadata": {},
   "outputs": [],
   "source": [
    "assert H8 == np.log2(len(die8)) # Works with equiprobable distributions"
   ]
  },
  {
   "cell_type": "markdown",
   "id": "5dfcd6d9-9b90-4cd5-98e7-0738def7f402",
   "metadata": {},
   "source": [
    "# Insight about `i` "
   ]
  },
  {
   "cell_type": "markdown",
   "id": "a8f33f93-d85f-434c-ab48-085fe3a1c9d8",
   "metadata": {},
   "source": [
    "Note that we can just use `i` to get the encoding scheme, i.e. the number of characters (bits) to use for each event."
   ]
  },
  {
   "cell_type": "markdown",
   "id": "1d3d7ad7-d7d7-46a0-b805-1171d642ad72",
   "metadata": {},
   "source": [
    "# Entropy of a Fair Coin"
   ]
  },
  {
   "cell_type": "code",
   "execution_count": 7,
   "id": "964d9976-1ef8-4b75-89ee-d25279ce39ea",
   "metadata": {},
   "outputs": [],
   "source": [
    "coin, H_coin = die_entropy(2)"
   ]
  },
  {
   "cell_type": "code",
   "execution_count": 8,
   "id": "a89be74a-16e8-41e5-b921-414e7785c809",
   "metadata": {},
   "outputs": [
    {
     "data": {
      "text/html": [
       "<div>\n",
       "<style scoped>\n",
       "    .dataframe tbody tr th:only-of-type {\n",
       "        vertical-align: middle;\n",
       "    }\n",
       "\n",
       "    .dataframe tbody tr th {\n",
       "        vertical-align: top;\n",
       "    }\n",
       "\n",
       "    .dataframe thead th {\n",
       "        text-align: right;\n",
       "    }\n",
       "</style>\n",
       "<table border=\"1\" class=\"dataframe\">\n",
       "  <thead>\n",
       "    <tr style=\"text-align: right;\">\n",
       "      <th></th>\n",
       "      <th>p</th>\n",
       "      <th>i</th>\n",
       "      <th>h</th>\n",
       "    </tr>\n",
       "    <tr>\n",
       "      <th>face</th>\n",
       "      <th></th>\n",
       "      <th></th>\n",
       "      <th></th>\n",
       "    </tr>\n",
       "  </thead>\n",
       "  <tbody>\n",
       "    <tr>\n",
       "      <th>1</th>\n",
       "      <td>0.5</td>\n",
       "      <td>1.0</td>\n",
       "      <td>0.5</td>\n",
       "    </tr>\n",
       "    <tr>\n",
       "      <th>2</th>\n",
       "      <td>0.5</td>\n",
       "      <td>1.0</td>\n",
       "      <td>0.5</td>\n",
       "    </tr>\n",
       "  </tbody>\n",
       "</table>\n",
       "</div>"
      ],
      "text/plain": [
       "        p    i    h\n",
       "face               \n",
       "1     0.5  1.0  0.5\n",
       "2     0.5  1.0  0.5"
      ]
     },
     "execution_count": 8,
     "metadata": {},
     "output_type": "execute_result"
    }
   ],
   "source": [
    "coin"
   ]
  },
  {
   "cell_type": "code",
   "execution_count": 9,
   "id": "9dbd0f9c-6a74-4d85-9237-90ff35d797a2",
   "metadata": {},
   "outputs": [
    {
     "data": {
      "text/plain": [
       "1.0"
      ]
     },
     "execution_count": 9,
     "metadata": {},
     "output_type": "execute_result"
    }
   ],
   "source": [
    "H_coin"
   ]
  },
  {
   "cell_type": "markdown",
   "id": "3ec193ab-5a77-40fe-97a3-5de79071dcdb",
   "metadata": {
    "tags": []
   },
   "source": [
    "# Entropies of All Coins\n",
    "\n",
    "<img src=\"media/binary-entropy-curve.png\" width=350/>\n",
    "\n",
    "Distribution of entropy for one side of a coin, e.g. $X$ stands for 'heads'.\n",
    "\n",
    "Maximum entropy is reached when both possibilities are equiprobable. The result of a flip in this context is maximally informative as well."
   ]
  },
  {
   "cell_type": "markdown",
   "id": "a4ed5cad-17f4-47dd-87ad-3dc5dcd241d9",
   "metadata": {},
   "source": [
    "# Entropy of Simplified Polynesian"
   ]
  },
  {
   "cell_type": "markdown",
   "id": "b0b7e7c2-271e-446a-aed1-bb91e2cb9f8c",
   "metadata": {},
   "source": [
    "<img src=\"media/ex8.png\">"
   ]
  },
  {
   "cell_type": "code",
   "execution_count": 85,
   "id": "e6cdeeaa-1608-45b6-89a7-953107d2005f",
   "metadata": {},
   "outputs": [],
   "source": [
    "poly = pd.DataFrame([row.split(',') for row in \"\"\"\n",
    "p,1/8,100\n",
    "t,1/4,00\n",
    "k,1/8,101\n",
    "a,1/4,01\n",
    "i,1/8,110\n",
    "u,1/8,111\n",
    "\"\"\".split(\"\\n\")[1:-1]], columns=['char','p', 'enc']).set_index('char')"
   ]
  },
  {
   "cell_type": "code",
   "execution_count": 86,
   "id": "122f0ae5-5d17-4c26-9377-46795bacfef1",
   "metadata": {},
   "outputs": [],
   "source": [
    "poly.p = poly.p.apply(eval)\n",
    "poly['i'] = np.log2(1/poly.p)\n",
    "poly['h'] = poly.p * np.log2(1/poly.p)\n",
    "poly['bits'] = poly.enc.str.strip().str.len()"
   ]
  },
  {
   "cell_type": "code",
   "execution_count": 90,
   "id": "3e0b245b-df99-408b-b7cf-082dca68b519",
   "metadata": {},
   "outputs": [],
   "source": [
    "poly['test'] = poly.i == poly.bits"
   ]
  },
  {
   "cell_type": "code",
   "execution_count": 91,
   "id": "cc75a0ce-f97e-4e26-99e5-8cce909ee477",
   "metadata": {},
   "outputs": [],
   "source": [
    "H_poly = poly.h.sum()"
   ]
  },
  {
   "cell_type": "code",
   "execution_count": 92,
   "id": "a9da7ac1-e039-48c6-87d0-a5a795066870",
   "metadata": {},
   "outputs": [
    {
     "data": {
      "text/plain": [
       "2.5"
      ]
     },
     "execution_count": 92,
     "metadata": {},
     "output_type": "execute_result"
    }
   ],
   "source": [
    "H_poly"
   ]
  },
  {
   "cell_type": "code",
   "execution_count": 93,
   "id": "81ce9f9e-835c-40f0-bcfa-d032d9c0f02f",
   "metadata": {},
   "outputs": [
    {
     "data": {
      "text/html": [
       "<div>\n",
       "<style scoped>\n",
       "    .dataframe tbody tr th:only-of-type {\n",
       "        vertical-align: middle;\n",
       "    }\n",
       "\n",
       "    .dataframe tbody tr th {\n",
       "        vertical-align: top;\n",
       "    }\n",
       "\n",
       "    .dataframe thead th {\n",
       "        text-align: right;\n",
       "    }\n",
       "</style>\n",
       "<table border=\"1\" class=\"dataframe\">\n",
       "  <thead>\n",
       "    <tr style=\"text-align: right;\">\n",
       "      <th></th>\n",
       "      <th>p</th>\n",
       "      <th>enc</th>\n",
       "      <th>i</th>\n",
       "      <th>h</th>\n",
       "      <th>bits</th>\n",
       "      <th>test</th>\n",
       "    </tr>\n",
       "    <tr>\n",
       "      <th>char</th>\n",
       "      <th></th>\n",
       "      <th></th>\n",
       "      <th></th>\n",
       "      <th></th>\n",
       "      <th></th>\n",
       "      <th></th>\n",
       "    </tr>\n",
       "  </thead>\n",
       "  <tbody>\n",
       "    <tr>\n",
       "      <th>p</th>\n",
       "      <td>0.125</td>\n",
       "      <td>100</td>\n",
       "      <td>3.0</td>\n",
       "      <td>0.375</td>\n",
       "      <td>3</td>\n",
       "      <td>True</td>\n",
       "    </tr>\n",
       "    <tr>\n",
       "      <th>t</th>\n",
       "      <td>0.250</td>\n",
       "      <td>00</td>\n",
       "      <td>2.0</td>\n",
       "      <td>0.500</td>\n",
       "      <td>2</td>\n",
       "      <td>True</td>\n",
       "    </tr>\n",
       "    <tr>\n",
       "      <th>k</th>\n",
       "      <td>0.125</td>\n",
       "      <td>101</td>\n",
       "      <td>3.0</td>\n",
       "      <td>0.375</td>\n",
       "      <td>3</td>\n",
       "      <td>True</td>\n",
       "    </tr>\n",
       "    <tr>\n",
       "      <th>a</th>\n",
       "      <td>0.250</td>\n",
       "      <td>01</td>\n",
       "      <td>2.0</td>\n",
       "      <td>0.500</td>\n",
       "      <td>2</td>\n",
       "      <td>True</td>\n",
       "    </tr>\n",
       "    <tr>\n",
       "      <th>i</th>\n",
       "      <td>0.125</td>\n",
       "      <td>110</td>\n",
       "      <td>3.0</td>\n",
       "      <td>0.375</td>\n",
       "      <td>3</td>\n",
       "      <td>True</td>\n",
       "    </tr>\n",
       "    <tr>\n",
       "      <th>u</th>\n",
       "      <td>0.125</td>\n",
       "      <td>111</td>\n",
       "      <td>3.0</td>\n",
       "      <td>0.375</td>\n",
       "      <td>3</td>\n",
       "      <td>True</td>\n",
       "    </tr>\n",
       "  </tbody>\n",
       "</table>\n",
       "</div>"
      ],
      "text/plain": [
       "          p  enc    i      h  bits  test\n",
       "char                                    \n",
       "p     0.125  100  3.0  0.375     3  True\n",
       "t     0.250   00  2.0  0.500     2  True\n",
       "k     0.125  101  3.0  0.375     3  True\n",
       "a     0.250   01  2.0  0.500     2  True\n",
       "i     0.125  110  3.0  0.375     3  True\n",
       "u     0.125  111  3.0  0.375     3  True"
      ]
     },
     "execution_count": 93,
     "metadata": {},
     "output_type": "execute_result"
    }
   ],
   "source": [
    "poly"
   ]
  },
  {
   "cell_type": "markdown",
   "id": "c19dd4ed-4f02-4e51-b564-cba967df09ac",
   "metadata": {
    "tags": []
   },
   "source": [
    "# Polynesian Syllables\n",
    "\n",
    "<img src=\"media/poly2a.png\">\n",
    "<img src=\"media/poly2b.png\">\n",
    "<img src=\"media/poly2c.png\">"
   ]
  },
  {
   "cell_type": "code",
   "execution_count": 102,
   "id": "89c4b73d-101c-4c89-a628-2ff1ce04d5c6",
   "metadata": {},
   "outputs": [],
   "source": [
    "poly2 = pd.DataFrame([row.split(\",\") for row in \"\"\"\n",
    "a,p,1/16\n",
    "a,t,3/8\n",
    "a,k,1/16\n",
    "i,p,1/16\n",
    "i,t,3/16\n",
    "i,k,0\n",
    "u,p,0\n",
    "u,t,3/16\n",
    "u,k,1/16\n",
    "\"\"\".split(\"\\n\")[1:-1]], columns=['v','c','f']).set_index(['c','v']).f.apply(eval).to_frame('p')"
   ]
  },
  {
   "cell_type": "code",
   "execution_count": 104,
   "id": "ab802e89-1096-435f-a605-07039856fd2c",
   "metadata": {},
   "outputs": [],
   "source": [
    "poly2['i'] = np.log2(1/poly2.p)\n",
    "poly2['h'] = poly2.p * poly2.i\n",
    "poly2['bits'] = poly2.i.round(0)#.astype('int')\n",
    "H_poly2 = poly2.h.sum().round(2)"
   ]
  },
  {
   "cell_type": "code",
   "execution_count": 105,
   "id": "ee65ca9c-f2ec-4f1e-ae9a-45d21e83b9cf",
   "metadata": {},
   "outputs": [
    {
     "data": {
      "text/plain": [
       "2.44"
      ]
     },
     "execution_count": 105,
     "metadata": {},
     "output_type": "execute_result"
    }
   ],
   "source": [
    "H_poly2"
   ]
  },
  {
   "cell_type": "code",
   "execution_count": 106,
   "id": "ec15a035-6436-4c8e-ac23-c3520e14e17c",
   "metadata": {},
   "outputs": [
    {
     "data": {
      "text/html": [
       "<div>\n",
       "<style scoped>\n",
       "    .dataframe tbody tr th:only-of-type {\n",
       "        vertical-align: middle;\n",
       "    }\n",
       "\n",
       "    .dataframe tbody tr th {\n",
       "        vertical-align: top;\n",
       "    }\n",
       "\n",
       "    .dataframe thead th {\n",
       "        text-align: right;\n",
       "    }\n",
       "</style>\n",
       "<table border=\"1\" class=\"dataframe\">\n",
       "  <thead>\n",
       "    <tr style=\"text-align: right;\">\n",
       "      <th></th>\n",
       "      <th></th>\n",
       "      <th>p</th>\n",
       "      <th>i</th>\n",
       "      <th>h</th>\n",
       "      <th>bits</th>\n",
       "    </tr>\n",
       "    <tr>\n",
       "      <th>c</th>\n",
       "      <th>v</th>\n",
       "      <th></th>\n",
       "      <th></th>\n",
       "      <th></th>\n",
       "      <th></th>\n",
       "    </tr>\n",
       "  </thead>\n",
       "  <tbody>\n",
       "    <tr>\n",
       "      <th>p</th>\n",
       "      <th>a</th>\n",
       "      <td>0.0625</td>\n",
       "      <td>4.000000</td>\n",
       "      <td>0.250000</td>\n",
       "      <td>4.0</td>\n",
       "    </tr>\n",
       "    <tr>\n",
       "      <th>t</th>\n",
       "      <th>a</th>\n",
       "      <td>0.3750</td>\n",
       "      <td>1.415037</td>\n",
       "      <td>0.530639</td>\n",
       "      <td>1.0</td>\n",
       "    </tr>\n",
       "    <tr>\n",
       "      <th>k</th>\n",
       "      <th>a</th>\n",
       "      <td>0.0625</td>\n",
       "      <td>4.000000</td>\n",
       "      <td>0.250000</td>\n",
       "      <td>4.0</td>\n",
       "    </tr>\n",
       "    <tr>\n",
       "      <th>p</th>\n",
       "      <th>i</th>\n",
       "      <td>0.0625</td>\n",
       "      <td>4.000000</td>\n",
       "      <td>0.250000</td>\n",
       "      <td>4.0</td>\n",
       "    </tr>\n",
       "    <tr>\n",
       "      <th>t</th>\n",
       "      <th>i</th>\n",
       "      <td>0.1875</td>\n",
       "      <td>2.415037</td>\n",
       "      <td>0.452820</td>\n",
       "      <td>2.0</td>\n",
       "    </tr>\n",
       "    <tr>\n",
       "      <th>k</th>\n",
       "      <th>i</th>\n",
       "      <td>0.0000</td>\n",
       "      <td>inf</td>\n",
       "      <td>NaN</td>\n",
       "      <td>inf</td>\n",
       "    </tr>\n",
       "    <tr>\n",
       "      <th>p</th>\n",
       "      <th>u</th>\n",
       "      <td>0.0000</td>\n",
       "      <td>inf</td>\n",
       "      <td>NaN</td>\n",
       "      <td>inf</td>\n",
       "    </tr>\n",
       "    <tr>\n",
       "      <th>t</th>\n",
       "      <th>u</th>\n",
       "      <td>0.1875</td>\n",
       "      <td>2.415037</td>\n",
       "      <td>0.452820</td>\n",
       "      <td>2.0</td>\n",
       "    </tr>\n",
       "    <tr>\n",
       "      <th>k</th>\n",
       "      <th>u</th>\n",
       "      <td>0.0625</td>\n",
       "      <td>4.000000</td>\n",
       "      <td>0.250000</td>\n",
       "      <td>4.0</td>\n",
       "    </tr>\n",
       "  </tbody>\n",
       "</table>\n",
       "</div>"
      ],
      "text/plain": [
       "          p         i         h  bits\n",
       "c v                                  \n",
       "p a  0.0625  4.000000  0.250000   4.0\n",
       "t a  0.3750  1.415037  0.530639   1.0\n",
       "k a  0.0625  4.000000  0.250000   4.0\n",
       "p i  0.0625  4.000000  0.250000   4.0\n",
       "t i  0.1875  2.415037  0.452820   2.0\n",
       "k i  0.0000       inf       NaN   inf\n",
       "p u  0.0000       inf       NaN   inf\n",
       "t u  0.1875  2.415037  0.452820   2.0\n",
       "k u  0.0625  4.000000  0.250000   4.0"
      ]
     },
     "execution_count": 106,
     "metadata": {},
     "output_type": "execute_result"
    }
   ],
   "source": [
    "poly2"
   ]
  },
  {
   "cell_type": "code",
   "execution_count": 18,
   "id": "b68ab8bc-6043-4d90-a77b-9194a2ecfdb2",
   "metadata": {},
   "outputs": [
    {
     "data": {
      "text/html": [
       "<div>\n",
       "<style scoped>\n",
       "    .dataframe tbody tr th:only-of-type {\n",
       "        vertical-align: middle;\n",
       "    }\n",
       "\n",
       "    .dataframe tbody tr th {\n",
       "        vertical-align: top;\n",
       "    }\n",
       "\n",
       "    .dataframe thead th {\n",
       "        text-align: right;\n",
       "    }\n",
       "</style>\n",
       "<table border=\"1\" class=\"dataframe\">\n",
       "  <thead>\n",
       "    <tr style=\"text-align: right;\">\n",
       "      <th></th>\n",
       "      <th></th>\n",
       "      <th>p</th>\n",
       "      <th>i</th>\n",
       "      <th>h</th>\n",
       "    </tr>\n",
       "    <tr>\n",
       "      <th>c</th>\n",
       "      <th>v</th>\n",
       "      <th></th>\n",
       "      <th></th>\n",
       "      <th></th>\n",
       "    </tr>\n",
       "  </thead>\n",
       "  <tbody>\n",
       "    <tr>\n",
       "      <th>p</th>\n",
       "      <th>a</th>\n",
       "      <td>0.0625</td>\n",
       "      <td>4.000000</td>\n",
       "      <td>0.250000</td>\n",
       "    </tr>\n",
       "    <tr>\n",
       "      <th>t</th>\n",
       "      <th>a</th>\n",
       "      <td>0.3750</td>\n",
       "      <td>1.415037</td>\n",
       "      <td>0.530639</td>\n",
       "    </tr>\n",
       "    <tr>\n",
       "      <th>k</th>\n",
       "      <th>a</th>\n",
       "      <td>0.0625</td>\n",
       "      <td>4.000000</td>\n",
       "      <td>0.250000</td>\n",
       "    </tr>\n",
       "    <tr>\n",
       "      <th>p</th>\n",
       "      <th>i</th>\n",
       "      <td>0.0625</td>\n",
       "      <td>4.000000</td>\n",
       "      <td>0.250000</td>\n",
       "    </tr>\n",
       "    <tr>\n",
       "      <th>t</th>\n",
       "      <th>i</th>\n",
       "      <td>0.1875</td>\n",
       "      <td>2.415037</td>\n",
       "      <td>0.452820</td>\n",
       "    </tr>\n",
       "    <tr>\n",
       "      <th>k</th>\n",
       "      <th>i</th>\n",
       "      <td>0.0000</td>\n",
       "      <td>inf</td>\n",
       "      <td>NaN</td>\n",
       "    </tr>\n",
       "    <tr>\n",
       "      <th>p</th>\n",
       "      <th>u</th>\n",
       "      <td>0.0000</td>\n",
       "      <td>inf</td>\n",
       "      <td>NaN</td>\n",
       "    </tr>\n",
       "    <tr>\n",
       "      <th>t</th>\n",
       "      <th>u</th>\n",
       "      <td>0.1875</td>\n",
       "      <td>2.415037</td>\n",
       "      <td>0.452820</td>\n",
       "    </tr>\n",
       "    <tr>\n",
       "      <th>k</th>\n",
       "      <th>u</th>\n",
       "      <td>0.0625</td>\n",
       "      <td>4.000000</td>\n",
       "      <td>0.250000</td>\n",
       "    </tr>\n",
       "  </tbody>\n",
       "</table>\n",
       "</div>"
      ],
      "text/plain": [
       "          p         i         h\n",
       "c v                            \n",
       "p a  0.0625  4.000000  0.250000\n",
       "t a  0.3750  1.415037  0.530639\n",
       "k a  0.0625  4.000000  0.250000\n",
       "p i  0.0625  4.000000  0.250000\n",
       "t i  0.1875  2.415037  0.452820\n",
       "k i  0.0000       inf       NaN\n",
       "p u  0.0000       inf       NaN\n",
       "t u  0.1875  2.415037  0.452820\n",
       "k u  0.0625  4.000000  0.250000"
      ]
     },
     "execution_count": 18,
     "metadata": {},
     "output_type": "execute_result"
    }
   ],
   "source": [
    "poly2"
   ]
  },
  {
   "cell_type": "markdown",
   "id": "802e5a6b-b024-4c1e-9fa1-ea07f1cecaf5",
   "metadata": {
    "tags": []
   },
   "source": [
    "# Entropy as Graph\n",
    "\n",
    "Note how the encoding of the repeated rolls of fair die is just the product of ancestor probabilities in a decision tree."
   ]
  },
  {
   "cell_type": "markdown",
   "id": "baa26687-6b2f-42b6-a173-4474e6533652",
   "metadata": {},
   "source": [
    "<img src=\"media/entropy-tree.png\">"
   ]
  },
  {
   "cell_type": "code",
   "execution_count": 68,
   "id": "9157a4da-e431-4040-94cd-b29eadde2559",
   "metadata": {},
   "outputs": [],
   "source": [
    "X = {\n",
    "    'H': .4,\n",
    "    'T': .6\n",
    "}"
   ]
  },
  {
   "cell_type": "code",
   "execution_count": 69,
   "id": "ba0732e6-011c-4430-ab24-53e3ea88de2f",
   "metadata": {},
   "outputs": [],
   "source": [
    "D = []\n",
    "for f1 in X.keys():\n",
    "    for f2 in X.keys():\n",
    "        for f3 in X.keys():\n",
    "            p = round(X[f1] * X[f2] * X[f3], 3)\n",
    "            D.append((f1,f2,f3,p))"
   ]
  },
  {
   "cell_type": "code",
   "execution_count": 70,
   "id": "8e5415b3-4f6b-4e82-a66e-93ca608d2f65",
   "metadata": {},
   "outputs": [],
   "source": [
    "unfair = pd.DataFrame(D, columns=['f1','f2','f3','p']).set_index(['f1','f2','f3'])"
   ]
  },
  {
   "cell_type": "code",
   "execution_count": 71,
   "id": "e4afe1d2-9758-43a6-9fdd-09c0579556da",
   "metadata": {},
   "outputs": [],
   "source": [
    "unfair['i'] = np.log2(1/unfair.p)\n",
    "unfair['h'] = unfair.p * unfair.i\n",
    "unfair['bits'] = unfair.i.round(0).astype('int')\n",
    "H_unfair = unfair.h.sum()\n",
    "Q_unfair = unfair.i.mean()"
   ]
  },
  {
   "cell_type": "code",
   "execution_count": 72,
   "id": "e83f0398-ab93-4409-93ba-bc40025c0f84",
   "metadata": {},
   "outputs": [
    {
     "data": {
      "text/html": [
       "<div>\n",
       "<style scoped>\n",
       "    .dataframe tbody tr th:only-of-type {\n",
       "        vertical-align: middle;\n",
       "    }\n",
       "\n",
       "    .dataframe tbody tr th {\n",
       "        vertical-align: top;\n",
       "    }\n",
       "\n",
       "    .dataframe thead th {\n",
       "        text-align: right;\n",
       "    }\n",
       "</style>\n",
       "<table border=\"1\" class=\"dataframe\">\n",
       "  <thead>\n",
       "    <tr style=\"text-align: right;\">\n",
       "      <th></th>\n",
       "      <th></th>\n",
       "      <th></th>\n",
       "      <th>p</th>\n",
       "      <th>i</th>\n",
       "      <th>h</th>\n",
       "      <th>bits</th>\n",
       "    </tr>\n",
       "    <tr>\n",
       "      <th>f1</th>\n",
       "      <th>f2</th>\n",
       "      <th>f3</th>\n",
       "      <th></th>\n",
       "      <th></th>\n",
       "      <th></th>\n",
       "      <th></th>\n",
       "    </tr>\n",
       "  </thead>\n",
       "  <tbody>\n",
       "    <tr>\n",
       "      <th rowspan=\"4\" valign=\"top\">H</th>\n",
       "      <th rowspan=\"2\" valign=\"top\">H</th>\n",
       "      <th>H</th>\n",
       "      <td>0.064</td>\n",
       "      <td>3.965784</td>\n",
       "      <td>0.253810</td>\n",
       "      <td>4</td>\n",
       "    </tr>\n",
       "    <tr>\n",
       "      <th>T</th>\n",
       "      <td>0.096</td>\n",
       "      <td>3.380822</td>\n",
       "      <td>0.324559</td>\n",
       "      <td>3</td>\n",
       "    </tr>\n",
       "    <tr>\n",
       "      <th rowspan=\"2\" valign=\"top\">T</th>\n",
       "      <th>H</th>\n",
       "      <td>0.096</td>\n",
       "      <td>3.380822</td>\n",
       "      <td>0.324559</td>\n",
       "      <td>3</td>\n",
       "    </tr>\n",
       "    <tr>\n",
       "      <th>T</th>\n",
       "      <td>0.144</td>\n",
       "      <td>2.795859</td>\n",
       "      <td>0.402604</td>\n",
       "      <td>3</td>\n",
       "    </tr>\n",
       "    <tr>\n",
       "      <th rowspan=\"4\" valign=\"top\">T</th>\n",
       "      <th rowspan=\"2\" valign=\"top\">H</th>\n",
       "      <th>H</th>\n",
       "      <td>0.096</td>\n",
       "      <td>3.380822</td>\n",
       "      <td>0.324559</td>\n",
       "      <td>3</td>\n",
       "    </tr>\n",
       "    <tr>\n",
       "      <th>T</th>\n",
       "      <td>0.144</td>\n",
       "      <td>2.795859</td>\n",
       "      <td>0.402604</td>\n",
       "      <td>3</td>\n",
       "    </tr>\n",
       "    <tr>\n",
       "      <th rowspan=\"2\" valign=\"top\">T</th>\n",
       "      <th>H</th>\n",
       "      <td>0.144</td>\n",
       "      <td>2.795859</td>\n",
       "      <td>0.402604</td>\n",
       "      <td>3</td>\n",
       "    </tr>\n",
       "    <tr>\n",
       "      <th>T</th>\n",
       "      <td>0.216</td>\n",
       "      <td>2.210897</td>\n",
       "      <td>0.477554</td>\n",
       "      <td>2</td>\n",
       "    </tr>\n",
       "  </tbody>\n",
       "</table>\n",
       "</div>"
      ],
      "text/plain": [
       "              p         i         h  bits\n",
       "f1 f2 f3                                 \n",
       "H  H  H   0.064  3.965784  0.253810     4\n",
       "      T   0.096  3.380822  0.324559     3\n",
       "   T  H   0.096  3.380822  0.324559     3\n",
       "      T   0.144  2.795859  0.402604     3\n",
       "T  H  H   0.096  3.380822  0.324559     3\n",
       "      T   0.144  2.795859  0.402604     3\n",
       "   T  H   0.144  2.795859  0.402604     3\n",
       "      T   0.216  2.210897  0.477554     2"
      ]
     },
     "execution_count": 72,
     "metadata": {},
     "output_type": "execute_result"
    }
   ],
   "source": [
    "unfair"
   ]
  },
  {
   "cell_type": "code",
   "execution_count": 55,
   "id": "7960b84a-c6fc-4295-bb10-9d1581732d6a",
   "metadata": {},
   "outputs": [
    {
     "data": {
      "text/plain": [
       "(2.912851783364006, 3.088340533580353)"
      ]
     },
     "execution_count": 55,
     "metadata": {},
     "output_type": "execute_result"
    }
   ],
   "source": [
    "H_unfair, Q_unfair"
   ]
  },
  {
   "cell_type": "markdown",
   "id": "38576e5c-020f-4b3a-8d67-d0cf8d351806",
   "metadata": {},
   "source": [
    "<img src=\"media/entropy-tree-2.png\"/>"
   ]
  },
  {
   "cell_type": "code",
   "execution_count": null,
   "id": "25689cf3-37ad-44c7-af0a-341f1f9937a4",
   "metadata": {},
   "outputs": [],
   "source": []
  }
 ],
 "metadata": {
  "kernelspec": {
   "display_name": "eta",
   "language": "python",
   "name": "eta"
  },
  "language_info": {
   "codemirror_mode": {
    "name": "ipython",
    "version": 3
   },
   "file_extension": ".py",
   "mimetype": "text/x-python",
   "name": "python",
   "nbconvert_exporter": "python",
   "pygments_lexer": "ipython3",
   "version": "3.8.3"
  },
  "widgets": {
   "application/vnd.jupyter.widget-state+json": {
    "state": {},
    "version_major": 2,
    "version_minor": 0
   }
  }
 },
 "nbformat": 4,
 "nbformat_minor": 5
}
