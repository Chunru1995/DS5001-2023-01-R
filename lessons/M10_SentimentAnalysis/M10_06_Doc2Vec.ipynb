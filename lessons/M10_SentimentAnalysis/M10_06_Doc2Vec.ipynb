{
 "cells": [
  {
   "cell_type": "markdown",
   "id": "f86406bd-ed6f-4eaf-8097-be2598c7794f",
   "metadata": {
    "jp-MarkdownHeadingCollapsed": true,
    "tags": []
   },
   "source": [
    "# Metadata\n",
    "\n",
    "```yaml\n",
    "Course:   DS 5001\n",
    "Module:   10 Lab\n",
    "Topic:    Doc2Vec\n",
    "Author:   R.C. Alvarado\n",
    "Date:     02 April 2023 (revised)\n",
    "```\n",
    "\n",
    "**Purpose:** Demonstrate use of Gensim's doc2vec implementation.\n",
    "\n",
    "See https://www.tutorialspoint.com/gensim/gensim_doc2vec_model.htm#\n",
    "\n",
    "> Doc2Vec model, as opposite to Word2Vec model, is used to create a vectorised representation of a group of words taken collectively as a single unit. It doesn’t only give the simple average of the words in the sentence.\n",
    "\n"
   ]
  },
  {
   "cell_type": "markdown",
   "id": "664f6a20-17c6-4cd4-9cb3-449ad4c6259f",
   "metadata": {},
   "source": [
    "# Set Up"
   ]
  },
  {
   "cell_type": "code",
   "execution_count": 1,
   "id": "79b64980-fec1-4ef3-9b39-32fe5aa2436c",
   "metadata": {},
   "outputs": [],
   "source": [
    "data_path = \"../data\"\n",
    "corpus_prefix = 'austen-melville'\n",
    "OHCO = ['book_id','chap_id','para_num','sent_num','token_num']\n",
    "BAG = OHCO[:1] # BOOKS"
   ]
  },
  {
   "cell_type": "code",
   "execution_count": 2,
   "id": "8194586b-24a1-4b2e-8434-6517eb7231ef",
   "metadata": {},
   "outputs": [],
   "source": [
    "import pandas as pd\n",
    "import numpy as np\n",
    "import gensim\n",
    "import plotly_express as px"
   ]
  },
  {
   "cell_type": "markdown",
   "id": "6271c11b-e56a-44d5-8603-7cd02eeccabd",
   "metadata": {},
   "source": [
    "# Get Data"
   ]
  },
  {
   "cell_type": "code",
   "execution_count": 3,
   "id": "b881ee5e-f228-404f-b9fb-52a662ea01a6",
   "metadata": {},
   "outputs": [],
   "source": [
    "LIB = pd.read_csv(f\"{data_path}/output/{corpus_prefix}-LIB.csv\").set_index(['book_id'])\n",
    "LIB['author_id'] = LIB.author.str.split(', ').str[0]\n",
    "LIB['book_label'] = LIB.author_id + ' ' + LIB.index.astype('str') + ': ' + LIB.title.str[:20]"
   ]
  },
  {
   "cell_type": "code",
   "execution_count": 4,
   "id": "1c5b583b-ac4f-4055-b24b-e9e575db8e4e",
   "metadata": {},
   "outputs": [],
   "source": [
    "CORPUS = pd.read_csv(f\"{data_path}/output/{corpus_prefix}-CORPUS.csv\").set_index(OHCO)[['pos','term_str']]"
   ]
  },
  {
   "cell_type": "code",
   "execution_count": 5,
   "id": "4a4074e2-34e8-46a1-bdad-e79b54a25a37",
   "metadata": {},
   "outputs": [],
   "source": [
    "DOCS = CORPUS.groupby(BAG)"
   ]
  },
  {
   "cell_type": "code",
   "execution_count": 6,
   "id": "23193617-7e9f-4d6b-8994-75e54b9e35a3",
   "metadata": {},
   "outputs": [],
   "source": [
    "DOCIDX = DOCS.term_str.count().index"
   ]
  },
  {
   "cell_type": "markdown",
   "id": "da476a0a-50a7-4303-a3d5-34ac36b746e6",
   "metadata": {},
   "source": [
    "# Convert to Gensim\n",
    "\n",
    "We follow Gensim recipe for converting our data from a dataframe to a TaggedDocument."
   ]
  },
  {
   "cell_type": "code",
   "execution_count": 7,
   "id": "ad4e5245-b1e1-4782-9546-4d3eea332b13",
   "metadata": {},
   "outputs": [],
   "source": [
    "data = DOCS.term_str.apply(lambda x: list(x)).to_list()"
   ]
  },
  {
   "cell_type": "code",
   "execution_count": 8,
   "id": "d0013ee1-255e-4269-bf70-6ccc9ae9bd34",
   "metadata": {},
   "outputs": [],
   "source": [
    "def tagged_document(list_of_list_of_words):\n",
    "    for i, list_of_words in enumerate(list_of_list_of_words):\n",
    "      yield gensim.models.doc2vec.TaggedDocument([str(w) for w in list_of_words], [i])"
   ]
  },
  {
   "cell_type": "code",
   "execution_count": 9,
   "id": "55ef90f8-ad61-44db-91df-22325017ef78",
   "metadata": {},
   "outputs": [],
   "source": [
    "data_for_training = list(tagged_document(data))"
   ]
  },
  {
   "cell_type": "code",
   "execution_count": 10,
   "id": "f5e5717a-ac1e-403c-87c2-3417937a1c23",
   "metadata": {},
   "outputs": [],
   "source": [
    "# data_for_training[:1]"
   ]
  },
  {
   "cell_type": "markdown",
   "id": "ceaf6861-c713-4cb9-b4b8-e4943bf27273",
   "metadata": {},
   "source": [
    "# Generate Model"
   ]
  },
  {
   "cell_type": "code",
   "execution_count": 11,
   "id": "4e4dd772-bfb0-44ca-99d2-6106b80d2c01",
   "metadata": {},
   "outputs": [],
   "source": [
    "model = gensim.models.doc2vec.Doc2Vec(vector_size=40, min_count=2, epochs=30)"
   ]
  },
  {
   "cell_type": "code",
   "execution_count": 12,
   "id": "195f8512-4111-4858-acd2-6e2150c49f9f",
   "metadata": {},
   "outputs": [],
   "source": [
    "model.build_vocab(data_for_training)"
   ]
  },
  {
   "cell_type": "code",
   "execution_count": 13,
   "id": "433abd47-2159-46fe-b086-1a49c0301fa8",
   "metadata": {},
   "outputs": [],
   "source": [
    "model.train(data_for_training, total_examples=model.corpus_count, epochs=model.epochs)"
   ]
  },
  {
   "cell_type": "markdown",
   "id": "d2bd3ed4-5c8d-4a97-bd7a-bd34aff9bc2a",
   "metadata": {
    "tags": []
   },
   "source": [
    "# Document Embedding Matrix"
   ]
  },
  {
   "cell_type": "code",
   "execution_count": 14,
   "id": "c97d5c20-6be9-4223-8e21-d9a9f6a4cbf8",
   "metadata": {},
   "outputs": [],
   "source": [
    "# model.docvecs.vectors_docs"
   ]
  },
  {
   "cell_type": "code",
   "execution_count": 15,
   "id": "7e879214-b347-4634-8298-f9ee983ca36e",
   "metadata": {},
   "outputs": [],
   "source": [
    "X = pd.DataFrame(model.docvecs.vectors_docs, index=LIB.book_label)"
   ]
  },
  {
   "cell_type": "code",
   "execution_count": 16,
   "id": "6cf95c23-9767-476a-8495-c332043e0495",
   "metadata": {},
   "outputs": [],
   "source": [
    "import sys\n",
    "sys.path.append(\"../lib\")\n",
    "from hac2 import HAC"
   ]
  },
  {
   "cell_type": "code",
   "execution_count": 17,
   "id": "09d0c12f-2e5c-4190-b643-56b680872279",
   "metadata": {},
   "outputs": [
    {
     "ename": "NameError",
     "evalue": "name 'dv_tree' is not defined",
     "output_type": "error",
     "traceback": [
      "\u001b[0;31m---------------------------------------------------------------------------\u001b[0m",
      "\u001b[0;31mNameError\u001b[0m                                 Traceback (most recent call last)",
      "Cell \u001b[0;32mIn[17], line 2\u001b[0m\n\u001b[1;32m      1\u001b[0m \u001b[38;5;66;03m# dv_tree = HAC(X)\u001b[39;00m\n\u001b[0;32m----> 2\u001b[0m \u001b[43mdv_tree\u001b[49m\u001b[38;5;241m.\u001b[39mcolor_thresh \u001b[38;5;241m=\u001b[39m \u001b[38;5;241m1\u001b[39m\n\u001b[1;32m      3\u001b[0m dv_tree\u001b[38;5;241m.\u001b[39mplot()\n",
      "\u001b[0;31mNameError\u001b[0m: name 'dv_tree' is not defined"
     ]
    }
   ],
   "source": [
    "# dv_tree = HAC(X)\n",
    "dv_tree.color_thresh = 1\n",
    "dv_tree.plot()"
   ]
  },
  {
   "cell_type": "markdown",
   "id": "d0569338-b4d6-4b65-ba61-58849351b310",
   "metadata": {},
   "source": [
    "# Try Out"
   ]
  },
  {
   "cell_type": "code",
   "execution_count": null,
   "id": "69994c9f-8c49-4cf7-abc6-a7d0599cfe1d",
   "metadata": {},
   "outputs": [],
   "source": [
    "r1 = model.infer_vector(\"We went sailing on the Pacific\".split())\n",
    "r2 = model.infer_vector(\"I so enjoyed the visit to Bath\".split())"
   ]
  },
  {
   "cell_type": "code",
   "execution_count": null,
   "id": "8ee2912f-daf0-4b0c-a500-ee06c0fff3f7",
   "metadata": {},
   "outputs": [],
   "source": [
    "R = pd.DataFrame(dict(r1=r1, r2=r2))"
   ]
  },
  {
   "cell_type": "code",
   "execution_count": null,
   "id": "48fc6897-07d6-4761-bbb4-9e56b2fbecc3",
   "metadata": {},
   "outputs": [],
   "source": [
    "R.style.background_gradient(cmap='YlGnBu', axis=None)"
   ]
  },
  {
   "cell_type": "code",
   "execution_count": null,
   "id": "228e0741-7b0d-4d5c-bf08-67521db77287",
   "metadata": {},
   "outputs": [],
   "source": [
    "R['w'] = X.sum().abs()"
   ]
  },
  {
   "cell_type": "code",
   "execution_count": null,
   "id": "57964eea-79b6-45b3-b936-0ab7549b43c4",
   "metadata": {},
   "outputs": [],
   "source": [
    "R"
   ]
  },
  {
   "cell_type": "code",
   "execution_count": null,
   "id": "0db760e6-7c71-4f36-89b1-66f77db841ff",
   "metadata": {},
   "outputs": [],
   "source": [
    "# X.sum().to_list()"
   ]
  },
  {
   "cell_type": "code",
   "execution_count": null,
   "id": "0eb54126-8bc3-4d09-8b47-3644ad4d3a1c",
   "metadata": {},
   "outputs": [],
   "source": [
    "px.scatter(R.reset_index(), 'r1', 'r2', height=600, width=700, text='index', size='w')"
   ]
  },
  {
   "cell_type": "code",
   "execution_count": null,
   "id": "91a645b0-e553-4c3f-86d5-64766a13e3d1",
   "metadata": {},
   "outputs": [],
   "source": [
    "(R.r1 - R.r2).sort_values().plot.barh(figsize=(5,10));"
   ]
  },
  {
   "cell_type": "code",
   "execution_count": null,
   "id": "eebee642-2089-4643-bfcc-8eeb9d9634e7",
   "metadata": {},
   "outputs": [],
   "source": [
    "mode"
   ]
  }
 ],
 "metadata": {
  "kernelspec": {
   "display_name": "eta",
   "language": "python",
   "name": "eta"
  },
  "language_info": {
   "codemirror_mode": {
    "name": "ipython",
    "version": 3
   },
   "file_extension": ".py",
   "mimetype": "text/x-python",
   "name": "python",
   "nbconvert_exporter": "python",
   "pygments_lexer": "ipython3",
   "version": "3.8.16"
  },
  "widgets": {
   "application/vnd.jupyter.widget-state+json": {
    "state": {},
    "version_major": 2,
    "version_minor": 0
   }
  }
 },
 "nbformat": 4,
 "nbformat_minor": 5
}
